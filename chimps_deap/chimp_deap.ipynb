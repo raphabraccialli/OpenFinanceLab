{
 "cells": [
  {
   "cell_type": "code",
   "execution_count": 2,
   "metadata": {},
   "outputs": [],
   "source": [
    "import pandas as pd\n",
    "import os\n",
    "import numpy as np\n",
    "from functools import reduce\n",
    "import time\n",
    "from datetime import datetime\n",
    "to_datetime = lambda d: pd.to_datetime(d, format='%d/%m/%Y')"
   ]
  },
  {
   "cell_type": "code",
   "execution_count": 27,
   "metadata": {},
   "outputs": [],
   "source": [
    "def chimp_finder(mean_size, var_med_thresh):\n",
    "    \n",
    "    dir = '../cotacoes/dados/b3/cotacoes_diarias/'\n",
    "\n",
    "    # arquivo = 'QUAL3.sa.csv'\n",
    "\n",
    "    ## Inicio\n",
    "    inicio = time.perf_counter()\n",
    "    micos = pd.DataFrame()\n",
    "    x = y = 0\n",
    "\n",
    "    ## Varrer os arquivos no diretório\n",
    "    for arquivo in os.listdir(dir):\n",
    "\n",
    "        ## Lê os arquivos\n",
    "        cotacoes = pd.read_csv(dir + arquivo, parse_dates=['date'], date_parser=to_datetime).sort_values(by='date', ascending=True)\n",
    "\n",
    "        ## Cálculos\n",
    "        cotacoes['simbolo'] = arquivo[0:-7]\n",
    "        cotacoes['vol_med'] = cotacoes['vol'].rolling(window=mean_size).mean()      ## Média Móvel do Volume\n",
    "        cotacoes['var_vol'] = cotacoes['vol']/cotacoes['vol'].shift(1)        ## Variação do Volume no dia\n",
    "        cotacoes['var_med'] = cotacoes['vol']/cotacoes['vol_med']             ## Variação do Volume em relação a Média Móvel\n",
    "        cotacoes['saida'] = cotacoes['open'].shift(-1)                        ## Saída da Estratégia\n",
    "        cotacoes['lucro'] = cotacoes['saida'] - cotacoes['close']             ## Lucro da Estrategia\n",
    "        cotacoes['var_lucro'] = (cotacoes['lucro']/cotacoes['close']) * 100   ## Variação % do Lucro\n",
    "        cotacoes['var_close'] = (cotacoes['saida'] / cotacoes['saida'].shift(1) - 1) * 100 ## Variação % do Fechamento\n",
    "\n",
    "        ## Seleção\n",
    "        selecao = (cotacoes['var_vol'] >= 0) & (cotacoes['var_med'] >= var_med_thresh) ## Variação diária ou relativa a média > 10\n",
    "\n",
    "        if len(micos) == 0:\n",
    "            micos = cotacoes[selecao].copy()\n",
    "        else:\n",
    "            micos = micos.append(cotacoes[selecao])\n",
    "\n",
    "        ## Contadores\n",
    "        x += 1\n",
    "        y += len(cotacoes)\n",
    "\n",
    "    micos.set_index(['simbolo','date'], inplace=True)\n",
    "    \n",
    "    micos = micos.dropna(axis=0, how='any') # removes NaN lines\n",
    "\n",
    "    ## Fim\n",
    "    fim = time.perf_counter()\n",
    "    \n",
    "    return micos"
   ]
  },
  {
   "cell_type": "code",
   "execution_count": 38,
   "metadata": {},
   "outputs": [
    {
     "name": "stdout",
     "output_type": "stream",
     "text": [
      "number of chimps: 18862\n",
      "acumulated profit: -0.0\n"
     ]
    },
    {
     "data": {
      "text/plain": [
       "<matplotlib.axes._subplots.AxesSubplot at 0x262e7ff49e8>"
      ]
     },
     "execution_count": 38,
     "metadata": {},
     "output_type": "execute_result"
    },
    {
     "data": {
      "image/png": "[encoded data removed]",
      "text/plain": [
       "<Figure size 432x288 with 1 Axes>"
      ]
     },
     "metadata": {
      "needs_background": "light"
     },
     "output_type": "display_data"
    }
   ],
   "source": [
    "micos = chimp_finder(100, 5)\n",
    "#micos = (micos[abs(micos['lucro'])<0.25]['lucro']+1)\n",
    "print('number of chimps: ' + str(len(micos)))\n",
    "print('acumulated profit: ' + str(reduce(lambda x, y: x*y, micos['lucro']+1)))\n",
    "micos.plot.hist(bins=100, alpha=0.5)\n"
   ]
  }
 ],
 "metadata": {
  "kernelspec": {
   "display_name": "Python 3",
   "language": "python",
   "name": "python3"
  },
  "language_info": {
   "codemirror_mode": {
    "name": "ipython",
    "version": 3
   },
   "file_extension": ".py",
   "mimetype": "text/x-python",
   "name": "python",
   "nbconvert_exporter": "python",
   "pygments_lexer": "ipython3",
   "version": "3.7.3"
  }
 },
 "nbformat": 4,
 "nbformat_minor": 2
}
